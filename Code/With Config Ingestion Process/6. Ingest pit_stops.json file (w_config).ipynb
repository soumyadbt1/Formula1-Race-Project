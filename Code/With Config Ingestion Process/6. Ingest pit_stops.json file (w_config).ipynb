{
 "cells": [
  {
   "cell_type": "code",
   "execution_count": 0,
   "metadata": {
    "application/vnd.databricks.v1+cell": {
     "cellMetadata": {
      "byteLimit": 2048000,
      "rowLimit": 10000
     },
     "inputWidgets": {},
     "nuid": "2789c935-b8b9-4b89-a18b-6e3645acc198",
     "showTitle": false,
     "tableResultSettingsMap": {},
     "title": ""
    }
   },
   "outputs": [],
   "source": [
    "dbutils.widgets.text(\"p_data_source\",\"\")\n",
    "v_data_source = dbutils.widgets.get(\"p_data_source\")"
   ]
  },
  {
   "cell_type": "code",
   "execution_count": 0,
   "metadata": {
    "application/vnd.databricks.v1+cell": {
     "cellMetadata": {
      "byteLimit": 2048000,
      "rowLimit": 10000
     },
     "inputWidgets": {},
     "nuid": "09d555d7-12bf-4cfa-8147-701ffacb6763",
     "showTitle": false,
     "tableResultSettingsMap": {},
     "title": ""
    }
   },
   "outputs": [],
   "source": [
    "# for incremental process of data setup, skipped 21st, went to 28th for incremental\n",
    "dbutils.widgets.text(\"p_file_date\",\"2021-03-28\")\n",
    "v_file_date = dbutils.widgets.get(\"p_file_date\")"
   ]
  },
  {
   "cell_type": "code",
   "execution_count": 0,
   "metadata": {
    "application/vnd.databricks.v1+cell": {
     "cellMetadata": {
      "byteLimit": 2048000,
      "rowLimit": 10000
     },
     "inputWidgets": {},
     "nuid": "3dbb7a0e-deaa-4091-a535-7330085fba47",
     "showTitle": false,
     "tableResultSettingsMap": {},
     "title": ""
    }
   },
   "outputs": [
    {
     "output_type": "execute_result",
     "data": {
      "text/plain": [
       "'testing'"
      ]
     },
     "execution_count": 49,
     "metadata": {},
     "output_type": "execute_result"
    }
   ],
   "source": [
    "v_data_source"
   ]
  },
  {
   "cell_type": "markdown",
   "metadata": {
    "application/vnd.databricks.v1+cell": {
     "cellMetadata": {
      "byteLimit": 2048000,
      "rowLimit": 10000
     },
     "inputWidgets": {},
     "nuid": "81e5ab4f-d86b-4b9d-8714-d2685a7994ee",
     "showTitle": false,
     "tableResultSettingsMap": {},
     "title": ""
    }
   },
   "source": [
    "##### Step 1 - Read the JSON file using spark dataframe reader API"
   ]
  },
  {
   "cell_type": "code",
   "execution_count": 0,
   "metadata": {
    "application/vnd.databricks.v1+cell": {
     "cellMetadata": {
      "byteLimit": 2048000,
      "rowLimit": 10000
     },
     "inputWidgets": {},
     "nuid": "b1d0330f-15ee-4651-b9e5-0e13c8468016",
     "showTitle": false,
     "tableResultSettingsMap": {},
     "title": ""
    }
   },
   "outputs": [],
   "source": [
    "%run \"../../Includes/Configuration\""
   ]
  },
  {
   "cell_type": "code",
   "execution_count": 0,
   "metadata": {
    "application/vnd.databricks.v1+cell": {
     "cellMetadata": {
      "byteLimit": 2048000,
      "rowLimit": 10000
     },
     "inputWidgets": {},
     "nuid": "d3ffbf7a-efaf-42ef-b7df-198a02d8106d",
     "showTitle": false,
     "tableResultSettingsMap": {},
     "title": ""
    }
   },
   "outputs": [],
   "source": [
    "%run \"../../Includes/Common Functions\""
   ]
  },
  {
   "cell_type": "code",
   "execution_count": 0,
   "metadata": {
    "application/vnd.databricks.v1+cell": {
     "cellMetadata": {
      "byteLimit": 2048000,
      "rowLimit": 10000
     },
     "inputWidgets": {},
     "nuid": "46e84ceb-6439-4cdd-8987-c7bc4d4fb738",
     "showTitle": false,
     "tableResultSettingsMap": {},
     "title": ""
    }
   },
   "outputs": [],
   "source": [
    "from pyspark.sql.types import StructType, StructField, StringType, IntegerType, DoubleType, DateType, FloatType"
   ]
  },
  {
   "cell_type": "code",
   "execution_count": 0,
   "metadata": {
    "application/vnd.databricks.v1+cell": {
     "cellMetadata": {
      "byteLimit": 2048000,
      "rowLimit": 10000
     },
     "inputWidgets": {},
     "nuid": "1fa56bb9-329b-43e0-9ad0-b7a50028aa13",
     "showTitle": false,
     "tableResultSettingsMap": {},
     "title": ""
    }
   },
   "outputs": [],
   "source": [
    "pit_stops_schema = StructType(fields=[\n",
    "                                   StructField(\"raceId\", StringType(),False),\n",
    "                                   StructField(\"driverId\", IntegerType(),True),\n",
    "                                   StructField(\"stop\", StringType(),True),\n",
    "                                   StructField(\"lap\", IntegerType(),True),\n",
    "                                   StructField(\"time\", StringType(),True),\n",
    "                                   StructField(\"duration\", StringType(),True),\n",
    "                                   StructField(\"milliseconds\", IntegerType(),True)\n",
    "])"
   ]
  },
  {
   "cell_type": "code",
   "execution_count": 0,
   "metadata": {
    "application/vnd.databricks.v1+cell": {
     "cellMetadata": {
      "byteLimit": 2048000,
      "rowLimit": 10000
     },
     "inputWidgets": {},
     "nuid": "5457f913-373e-4408-ac80-dd45ba9993f4",
     "showTitle": false,
     "tableResultSettingsMap": {},
     "title": ""
    }
   },
   "outputs": [],
   "source": [
    "pit_stops_df = spark.read\\\n",
    "    .schema(pit_stops_schema)\\\n",
    "    .option(\"multiLine\", True) \\\n",
    "    .json(f\"{raw_folder_path}/{v_file_date}/pit_stops.json\")\n",
    "         "
   ]
  },
  {
   "cell_type": "code",
   "execution_count": 0,
   "metadata": {
    "application/vnd.databricks.v1+cell": {
     "cellMetadata": {
      "byteLimit": 2048000,
      "rowLimit": 10000
     },
     "inputWidgets": {},
     "nuid": "9c80a677-aacb-46b3-8ff6-89c197e77ff6",
     "showTitle": false,
     "tableResultSettingsMap": {},
     "title": ""
    }
   },
   "outputs": [
    {
     "output_type": "display_data",
     "data": {
      "text/html": [
       "<style scoped>\n",
       "  .table-result-container {\n",
       "    max-height: 300px;\n",
       "    overflow: auto;\n",
       "  }\n",
       "  table, th, td {\n",
       "    border: 1px solid black;\n",
       "    border-collapse: collapse;\n",
       "  }\n",
       "  th, td {\n",
       "    padding: 5px;\n",
       "  }\n",
       "  th {\n",
       "    text-align: left;\n",
       "  }\n",
       "</style><div class='table-result-container'><table class='table-result'><thead style='background-color: white'><tr><th>raceId</th><th>driverId</th><th>stop</th><th>lap</th><th>time</th><th>duration</th><th>milliseconds</th></tr></thead><tbody><tr><td>1053</td><td>839</td><td>1</td><td>1</td><td>15:05:16</td><td>30.866</td><td>30866</td></tr><tr><td>1053</td><td>20</td><td>1</td><td>3</td><td>15:10:09</td><td>32.024</td><td>32024</td></tr><tr><td>1053</td><td>854</td><td>1</td><td>5</td><td>15:15:11</td><td>51.007</td><td>51007</td></tr><tr><td>1053</td><td>853</td><td>1</td><td>12</td><td>15:27:20</td><td>31.168</td><td>31168</td></tr><tr><td>1053</td><td>842</td><td>1</td><td>14</td><td>15:30:10</td><td>31.068</td><td>31068</td></tr><tr><td>1053</td><td>20</td><td>2</td><td>20</td><td>15:39:11</td><td>31.184</td><td>31184</td></tr><tr><td>1053</td><td>854</td><td>2</td><td>21</td><td>15:41:24</td><td>32.479</td><td>32479</td></tr><tr><td>1053</td><td>20</td><td>3</td><td>22</td><td>15:42:52</td><td>39.502</td><td>39502</td></tr><tr><td>1053</td><td>853</td><td>2</td><td>23</td><td>15:45:20</td><td>31.5</td><td>31500</td></tr><tr><td>1053</td><td>852</td><td>1</td><td>25</td><td>15:46:39</td><td>30.696</td><td>30696</td></tr><tr><td>1053</td><td>847</td><td>1</td><td>26</td><td>15:47:53</td><td>29.983</td><td>29983</td></tr><tr><td>1053</td><td>8</td><td>1</td><td>26</td><td>15:47:55</td><td>30.28</td><td>30280</td></tr><tr><td>1053</td><td>830</td><td>1</td><td>27</td><td>15:47:59</td><td>29.809</td><td>29809</td></tr><tr><td>1053</td><td>842</td><td>2</td><td>26</td><td>15:48:45</td><td>32.277</td><td>32277</td></tr><tr><td>1053</td><td>832</td><td>1</td><td>27</td><td>15:48:51</td><td>30.856</td><td>30856</td></tr><tr><td>1053</td><td>817</td><td>1</td><td>27</td><td>15:48:57</td><td>34.34</td><td>34340</td></tr><tr><td>1053</td><td>840</td><td>1</td><td>27</td><td>15:49:16</td><td>31.138</td><td>31138</td></tr><tr><td>1053</td><td>1</td><td>1</td><td>28</td><td>15:49:27</td><td>32.112</td><td>32112</td></tr><tr><td>1053</td><td>841</td><td>1</td><td>27</td><td>15:49:32</td><td>32.299</td><td>32299</td></tr><tr><td>1053</td><td>839</td><td>2</td><td>27</td><td>15:49:42</td><td>30.652</td><td>30652</td></tr><tr><td>1053</td><td>844</td><td>1</td><td>28</td><td>15:49:43</td><td>31.002</td><td>31002</td></tr><tr><td>1053</td><td>815</td><td>1</td><td>28</td><td>15:49:58</td><td>44.608</td><td>44608</td></tr><tr><td>1053</td><td>846</td><td>1</td><td>28</td><td>15:50:11</td><td>30.654</td><td>30654</td></tr><tr><td>1053</td><td>822</td><td>1</td><td>28</td><td>15:50:46</td><td>30.167</td><td>30167</td></tr><tr><td>1053</td><td>4</td><td>1</td><td>28</td><td>15:51:18</td><td>30.864</td><td>30864</td></tr><tr><td>1053</td><td>1</td><td>2</td><td>31</td><td>15:55:30</td><td>38.198</td><td>38198</td></tr><tr><td>1053</td><td>839</td><td>3</td><td>31</td><td>15:56:23</td><td>30.701</td><td>30701</td></tr><tr><td>1053</td><td>830</td><td>2</td><td>33</td><td>15:58:11</td><td>27:01.361</td><td>1621361</td></tr><tr><td>1053</td><td>840</td><td>2</td><td>32</td><td>15:58:13</td><td>24:52.090</td><td>1492090</td></tr><tr><td>1053</td><td>8</td><td>2</td><td>32</td><td>15:58:16</td><td>24:52.612</td><td>1492612</td></tr><tr><td>1053</td><td>1</td><td>3</td><td>32</td><td>15:58:17</td><td>24:54.731</td><td>1494731</td></tr><tr><td>1053</td><td>854</td><td>3</td><td>31</td><td>15:58:20</td><td>25:21.462</td><td>1521462</td></tr><tr><td>1053</td><td>852</td><td>2</td><td>32</td><td>15:58:24</td><td>24:51.384</td><td>1491384</td></tr><tr><td>1053</td><td>841</td><td>2</td><td>32</td><td>15:58:26</td><td>24:56.541</td><td>1496541</td></tr><tr><td>1053</td><td>844</td><td>2</td><td>33</td><td>15:58:28</td><td>26:49.484</td><td>1609484</td></tr><tr><td>1053</td><td>4</td><td>2</td><td>32</td><td>15:58:37</td><td>24:48.372</td><td>1488372</td></tr><tr><td>1053</td><td>839</td><td>4</td><td>32</td><td>15:58:48</td><td>24:38.974</td><td>1478974</td></tr><tr><td>1053</td><td>853</td><td>3</td><td>31</td><td>15:58:57</td><td>24:46.154</td><td>1486154</td></tr><tr><td>1053</td><td>846</td><td>2</td><td>33</td><td>15:59:06</td><td>26:24.953</td><td>1584953</td></tr><tr><td>1053</td><td>815</td><td>2</td><td>33</td><td>15:59:11</td><td>26:21.158</td><td>1581158</td></tr><tr><td>1053</td><td>832</td><td>2</td><td>33</td><td>15:59:14</td><td>26:22.211</td><td>1582211</td></tr><tr><td>1053</td><td>842</td><td>3</td><td>32</td><td>15:59:18</td><td>24:13.539</td><td>1453539</td></tr><tr><td>1053</td><td>20</td><td>4</td><td>32</td><td>15:59:21</td><td>24:12.323</td><td>1452323</td></tr><tr><td>1053</td><td>817</td><td>2</td><td>33</td><td>15:59:25</td><td>26:14.827</td><td>1574827</td></tr><tr><td>1053</td><td>840</td><td>3</td><td>33</td><td>16:24:36</td><td>1:05.390</td><td>65390</td></tr><tr><td>1053</td><td>8</td><td>3</td><td>33</td><td>16:24:42</td><td>1:02.892</td><td>62892</td></tr><tr><td>1053</td><td>1</td><td>4</td><td>33</td><td>16:24:48</td><td>1:05.870</td><td>65870</td></tr><tr><td>1053</td><td>852</td><td>3</td><td>33</td><td>16:24:52</td><td>1:03.280</td><td>63280</td></tr><tr><td>1053</td><td>841</td><td>3</td><td>33</td><td>16:24:58</td><td>1:00.172</td><td>60172</td></tr><tr><td>1053</td><td>4</td><td>3</td><td>33</td><td>16:25:04</td><td>57.601</td><td>57601</td></tr><tr><td>1053</td><td>839</td><td>5</td><td>33</td><td>16:25:06</td><td>56.733</td><td>56733</td></tr><tr><td>1053</td><td>842</td><td>4</td><td>33</td><td>16:25:09</td><td>56.083</td><td>56083</td></tr><tr><td>1053</td><td>20</td><td>5</td><td>33</td><td>16:25:15</td><td>52.043</td><td>52043</td></tr><tr><td>1053</td><td>854</td><td>4</td><td>32</td><td>16:25:16</td><td>51.222</td><td>51222</td></tr><tr><td>1053</td><td>853</td><td>4</td><td>32</td><td>16:25:22</td><td>49.729</td><td>49729</td></tr><tr><td>1053</td><td>841</td><td>4</td><td>40</td><td>16:36:13</td><td>29.742</td><td>29742</td></tr></tbody></table></div>"
      ]
     },
     "metadata": {
      "application/vnd.databricks.v1+output": {
       "addedWidgets": {},
       "aggData": [],
       "aggError": "",
       "aggOverflow": false,
       "aggSchema": [],
       "aggSeriesLimitReached": false,
       "aggType": "",
       "arguments": {},
       "columnCustomDisplayInfos": {},
       "data": [
        [
         "1053",
         839,
         "1",
         1,
         "15:05:16",
         "30.866",
         30866
        ],
        [
         "1053",
         20,
         "1",
         3,
         "15:10:09",
         "32.024",
         32024
        ],
        [
         "1053",
         854,
         "1",
         5,
         "15:15:11",
         "51.007",
         51007
        ],
        [
         "1053",
         853,
         "1",
         12,
         "15:27:20",
         "31.168",
         31168
        ],
        [
         "1053",
         842,
         "1",
         14,
         "15:30:10",
         "31.068",
         31068
        ],
        [
         "1053",
         20,
         "2",
         20,
         "15:39:11",
         "31.184",
         31184
        ],
        [
         "1053",
         854,
         "2",
         21,
         "15:41:24",
         "32.479",
         32479
        ],
        [
         "1053",
         20,
         "3",
         22,
         "15:42:52",
         "39.502",
         39502
        ],
        [
         "1053",
         853,
         "2",
         23,
         "15:45:20",
         "31.5",
         31500
        ],
        [
         "1053",
         852,
         "1",
         25,
         "15:46:39",
         "30.696",
         30696
        ],
        [
         "1053",
         847,
         "1",
         26,
         "15:47:53",
         "29.983",
         29983
        ],
        [
         "1053",
         8,
         "1",
         26,
         "15:47:55",
         "30.28",
         30280
        ],
        [
         "1053",
         830,
         "1",
         27,
         "15:47:59",
         "29.809",
         29809
        ],
        [
         "1053",
         842,
         "2",
         26,
         "15:48:45",
         "32.277",
         32277
        ],
        [
         "1053",
         832,
         "1",
         27,
         "15:48:51",
         "30.856",
         30856
        ],
        [
         "1053",
         817,
         "1",
         27,
         "15:48:57",
         "34.34",
         34340
        ],
        [
         "1053",
         840,
         "1",
         27,
         "15:49:16",
         "31.138",
         31138
        ],
        [
         "1053",
         1,
         "1",
         28,
         "15:49:27",
         "32.112",
         32112
        ],
        [
         "1053",
         841,
         "1",
         27,
         "15:49:32",
         "32.299",
         32299
        ],
        [
         "1053",
         839,
         "2",
         27,
         "15:49:42",
         "30.652",
         30652
        ],
        [
         "1053",
         844,
         "1",
         28,
         "15:49:43",
         "31.002",
         31002
        ],
        [
         "1053",
         815,
         "1",
         28,
         "15:49:58",
         "44.608",
         44608
        ],
        [
         "1053",
         846,
         "1",
         28,
         "15:50:11",
         "30.654",
         30654
        ],
        [
         "1053",
         822,
         "1",
         28,
         "15:50:46",
         "30.167",
         30167
        ],
        [
         "1053",
         4,
         "1",
         28,
         "15:51:18",
         "30.864",
         30864
        ],
        [
         "1053",
         1,
         "2",
         31,
         "15:55:30",
         "38.198",
         38198
        ],
        [
         "1053",
         839,
         "3",
         31,
         "15:56:23",
         "30.701",
         30701
        ],
        [
         "1053",
         830,
         "2",
         33,
         "15:58:11",
         "27:01.361",
         1621361
        ],
        [
         "1053",
         840,
         "2",
         32,
         "15:58:13",
         "24:52.090",
         1492090
        ],
        [
         "1053",
         8,
         "2",
         32,
         "15:58:16",
         "24:52.612",
         1492612
        ],
        [
         "1053",
         1,
         "3",
         32,
         "15:58:17",
         "24:54.731",
         1494731
        ],
        [
         "1053",
         854,
         "3",
         31,
         "15:58:20",
         "25:21.462",
         1521462
        ],
        [
         "1053",
         852,
         "2",
         32,
         "15:58:24",
         "24:51.384",
         1491384
        ],
        [
         "1053",
         841,
         "2",
         32,
         "15:58:26",
         "24:56.541",
         1496541
        ],
        [
         "1053",
         844,
         "2",
         33,
         "15:58:28",
         "26:49.484",
         1609484
        ],
        [
         "1053",
         4,
         "2",
         32,
         "15:58:37",
         "24:48.372",
         1488372
        ],
        [
         "1053",
         839,
         "4",
         32,
         "15:58:48",
         "24:38.974",
         1478974
        ],
        [
         "1053",
         853,
         "3",
         31,
         "15:58:57",
         "24:46.154",
         1486154
        ],
        [
         "1053",
         846,
         "2",
         33,
         "15:59:06",
         "26:24.953",
         1584953
        ],
        [
         "1053",
         815,
         "2",
         33,
         "15:59:11",
         "26:21.158",
         1581158
        ],
        [
         "1053",
         832,
         "2",
         33,
         "15:59:14",
         "26:22.211",
         1582211
        ],
        [
         "1053",
         842,
         "3",
         32,
         "15:59:18",
         "24:13.539",
         1453539
        ],
        [
         "1053",
         20,
         "4",
         32,
         "15:59:21",
         "24:12.323",
         1452323
        ],
        [
         "1053",
         817,
         "2",
         33,
         "15:59:25",
         "26:14.827",
         1574827
        ],
        [
         "1053",
         840,
         "3",
         33,
         "16:24:36",
         "1:05.390",
         65390
        ],
        [
         "1053",
         8,
         "3",
         33,
         "16:24:42",
         "1:02.892",
         62892
        ],
        [
         "1053",
         1,
         "4",
         33,
         "16:24:48",
         "1:05.870",
         65870
        ],
        [
         "1053",
         852,
         "3",
         33,
         "16:24:52",
         "1:03.280",
         63280
        ],
        [
         "1053",
         841,
         "3",
         33,
         "16:24:58",
         "1:00.172",
         60172
        ],
        [
         "1053",
         4,
         "3",
         33,
         "16:25:04",
         "57.601",
         57601
        ],
        [
         "1053",
         839,
         "5",
         33,
         "16:25:06",
         "56.733",
         56733
        ],
        [
         "1053",
         842,
         "4",
         33,
         "16:25:09",
         "56.083",
         56083
        ],
        [
         "1053",
         20,
         "5",
         33,
         "16:25:15",
         "52.043",
         52043
        ],
        [
         "1053",
         854,
         "4",
         32,
         "16:25:16",
         "51.222",
         51222
        ],
        [
         "1053",
         853,
         "4",
         32,
         "16:25:22",
         "49.729",
         49729
        ],
        [
         "1053",
         841,
         "4",
         40,
         "16:36:13",
         "29.742",
         29742
        ]
       ],
       "datasetInfos": [],
       "dbfsResultPath": null,
       "isJsonSchema": true,
       "metadata": {},
       "overflow": false,
       "plotOptions": {
        "customPlotOptions": {},
        "displayType": "table",
        "pivotAggregation": null,
        "pivotColumns": null,
        "xColumns": null,
        "yColumns": null
       },
       "removedWidgets": [],
       "schema": [
        {
         "metadata": "{}",
         "name": "raceId",
         "type": "\"string\""
        },
        {
         "metadata": "{}",
         "name": "driverId",
         "type": "\"integer\""
        },
        {
         "metadata": "{}",
         "name": "stop",
         "type": "\"string\""
        },
        {
         "metadata": "{}",
         "name": "lap",
         "type": "\"integer\""
        },
        {
         "metadata": "{}",
         "name": "time",
         "type": "\"string\""
        },
        {
         "metadata": "{}",
         "name": "duration",
         "type": "\"string\""
        },
        {
         "metadata": "{}",
         "name": "milliseconds",
         "type": "\"integer\""
        }
       ],
       "type": "table"
      }
     },
     "output_type": "display_data"
    }
   ],
   "source": [
    "display(pit_stops_df)"
   ]
  },
  {
   "cell_type": "markdown",
   "metadata": {
    "application/vnd.databricks.v1+cell": {
     "cellMetadata": {
      "byteLimit": 2048000,
      "rowLimit": 10000
     },
     "inputWidgets": {},
     "nuid": "c58a6910-5f13-49c5-8a52-addff685334a",
     "showTitle": false,
     "tableResultSettingsMap": {},
     "title": ""
    }
   },
   "source": [
    "##### Step 2 - Rename columns and add new columns \n"
   ]
  },
  {
   "cell_type": "code",
   "execution_count": 0,
   "metadata": {
    "application/vnd.databricks.v1+cell": {
     "cellMetadata": {
      "byteLimit": 2048000,
      "rowLimit": 10000
     },
     "inputWidgets": {},
     "nuid": "fbf576ea-03dd-4018-8ddf-8e5d7f9343d5",
     "showTitle": false,
     "tableResultSettingsMap": {},
     "title": ""
    }
   },
   "outputs": [],
   "source": [
    "from pyspark.sql.functions import current_timestamp,lit"
   ]
  },
  {
   "cell_type": "code",
   "execution_count": 0,
   "metadata": {
    "application/vnd.databricks.v1+cell": {
     "cellMetadata": {
      "byteLimit": 2048000,
      "rowLimit": 10000
     },
     "inputWidgets": {},
     "nuid": "e6b2ff98-a4fc-4b3a-b97c-cb772aeb26f1",
     "showTitle": false,
     "tableResultSettingsMap": {},
     "title": ""
    }
   },
   "outputs": [],
   "source": [
    "final_df = pit_stops_df.withColumnRenamed(\"driverId\", \"driver_id\") \\\n",
    "                                   .withColumnRenamed(\"raceId\", \"race_id\") \\\n",
    "                                   .withColumn(\"ingestion_date\", current_timestamp())\\\n",
    "                                   .withColumn(\"data_source\", lit(v_data_source))\\\n",
    "                                   .withColumn(\"file_date\", lit(v_file_date))"
   ]
  },
  {
   "cell_type": "markdown",
   "metadata": {
    "application/vnd.databricks.v1+cell": {
     "cellMetadata": {
      "byteLimit": 2048000,
      "rowLimit": 10000
     },
     "inputWidgets": {},
     "nuid": "3c896070-09d4-4f8e-b666-d848639d8325",
     "showTitle": false,
     "tableResultSettingsMap": {},
     "title": ""
    }
   },
   "source": [
    "##### Step 4 - Write to output to processed container in parquet format"
   ]
  },
  {
   "cell_type": "code",
   "execution_count": 0,
   "metadata": {
    "application/vnd.databricks.v1+cell": {
     "cellMetadata": {
      "byteLimit": 2048000,
      "rowLimit": 10000
     },
     "inputWidgets": {},
     "nuid": "77db6067-78d2-41b5-9269-bee26da7c9f0",
     "showTitle": false,
     "tableResultSettingsMap": {},
     "title": ""
    }
   },
   "outputs": [],
   "source": [
    "#final_df.write.mode(\"overwrite\").format(\"parquet\").saveAsTable(\"f1_processed.pit_stops\")\n",
    "#overwrite_partition(result_final_df,'f1_processed','pit_stops','race_id')\n"
   ]
  },
  {
   "cell_type": "code",
   "execution_count": 0,
   "metadata": {
    "application/vnd.databricks.v1+cell": {
     "cellMetadata": {
      "byteLimit": 2048000,
      "rowLimit": 10000
     },
     "inputWidgets": {},
     "nuid": "b1217e20-c040-4e3b-8b54-a8c4f2089ade",
     "showTitle": false,
     "tableResultSettingsMap": {},
     "title": ""
    }
   },
   "outputs": [],
   "source": [
    "merge_condition = \"tgt.race_id = src.race_id AND tgt.driver_id = src.driver_id AND tgt.stop = src.stop\" \n",
    "merge_delta_table(final_df, 'f1_processed', 'pit_stops', processed_folder_path, merge_condition, 'race_id') "
   ]
  },
  {
   "cell_type": "code",
   "execution_count": 0,
   "metadata": {
    "application/vnd.databricks.v1+cell": {
     "cellMetadata": {
      "byteLimit": 2048000,
      "rowLimit": 10000
     },
     "inputWidgets": {},
     "nuid": "a68aad22-9f6c-4d27-abc6-00a51627c757",
     "showTitle": false,
     "tableResultSettingsMap": {},
     "title": ""
    }
   },
   "outputs": [],
   "source": [
    "dbutils.notebook.exit(\"Success\")"
   ]
  },
  {
   "cell_type": "code",
   "execution_count": 0,
   "metadata": {
    "application/vnd.databricks.v1+cell": {
     "cellMetadata": {
      "byteLimit": 2048000,
      "implicitDf": true,
      "rowLimit": 10000
     },
     "inputWidgets": {},
     "nuid": "57226026-049b-40d7-b98c-443c0c21164b",
     "showTitle": false,
     "tableResultSettingsMap": {},
     "title": ""
    }
   },
   "outputs": [],
   "source": [
    "%sql\n",
    "SELECT race_id, COUNT(1)\n",
    "FROM f1_processed.pit_stops\n",
    "GROUP BY race_id\n",
    "ORDER BY race_id DESC;"
   ]
  }
 ],
 "metadata": {
  "application/vnd.databricks.v1+notebook": {
   "computePreferences": null,
   "dashboards": [],
   "environmentMetadata": null,
   "language": "python",
   "notebookMetadata": {
    "mostRecentlyExecutedCommandWithImplicitDF": {
     "commandId": 8033430721819146,
     "dataframes": [
      "_sqldf"
     ]
    },
    "pythonIndentUnit": 4
   },
   "notebookName": "6. Ingest pit_stops.json file (w_config)",
   "widgets": {
    "p_data_source": {
     "currentValue": "testing",
     "nuid": "7066febf-736f-46b5-aff9-977911aa2cbc",
     "typedWidgetInfo": {
      "autoCreated": false,
      "defaultValue": "",
      "label": null,
      "name": "p_data_source",
      "options": {
       "widgetDisplayType": "Text",
       "validationRegex": null
      },
      "parameterDataType": "String"
     },
     "widgetInfo": {
      "widgetType": "text",
      "defaultValue": "",
      "label": null,
      "name": "p_data_source",
      "options": {
       "widgetType": "text",
       "autoCreated": null,
       "validationRegex": null
      }
     }
    },
    "p_file_date": {
     "currentValue": "2021-04-18",
     "nuid": "c5758e63-2a4a-47a9-b7b0-fffe531e2015",
     "typedWidgetInfo": {
      "autoCreated": false,
      "defaultValue": "2021-03-28",
      "label": null,
      "name": "p_file_date",
      "options": {
       "widgetDisplayType": "Text",
       "validationRegex": null
      },
      "parameterDataType": "String"
     },
     "widgetInfo": {
      "widgetType": "text",
      "defaultValue": "2021-03-28",
      "label": null,
      "name": "p_file_date",
      "options": {
       "widgetType": "text",
       "autoCreated": null,
       "validationRegex": null
      }
     }
    }
   }
  },
  "language_info": {
   "name": "python"
  }
 },
 "nbformat": 4,
 "nbformat_minor": 0
}