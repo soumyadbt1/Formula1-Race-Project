{
 "cells": [
  {
   "cell_type": "code",
   "execution_count": 0,
   "metadata": {
    "application/vnd.databricks.v1+cell": {
     "cellMetadata": {
      "byteLimit": 2048000,
      "rowLimit": 10000
     },
     "inputWidgets": {},
     "nuid": "6b4c49b8-e54b-4ba3-8302-39a9709be861",
     "showTitle": false,
     "tableResultSettingsMap": {},
     "title": ""
    }
   },
   "outputs": [],
   "source": [
    "raw_folder_path = '/mnt/formula1dlskm/raw'\n",
    "processed_folder_path = '/mnt/formula1dlskm/processed'\n",
    "presentation_folder_path = '/mnt/formula1dlskm/presentation'"
   ]
  },
  {
   "cell_type": "code",
   "execution_count": 0,
   "metadata": {
    "application/vnd.databricks.v1+cell": {
     "cellMetadata": {},
     "inputWidgets": {},
     "nuid": "84710509-9c84-4825-98a9-2a200ed503a7",
     "showTitle": false,
     "tableResultSettingsMap": {},
     "title": ""
    }
   },
   "outputs": [],
   "source": [
    "## incase we are not mounting then use the below :\n",
    "##raw_folder_path = 'abfss://raw@formula1dlskm.dfs.core.windows.net'\n",
    "##processed_folder_path = 'abfss://processed@formula1dlskm.dfs.core.windows.net'\n",
    "##presentation_folder_path = 'abfss://presentation@formula1dlskm.dfs.core.windows.net'"
   ]
  }
 ],
 "metadata": {
  "application/vnd.databricks.v1+notebook": {
   "computePreferences": null,
   "dashboards": [],
   "environmentMetadata": null,
   "language": "python",
   "notebookMetadata": {
    "pythonIndentUnit": 4
   },
   "notebookName": "Configuration",
   "widgets": {}
  },
  "language_info": {
   "name": "python"
  }
 },
 "nbformat": 4,
 "nbformat_minor": 0
}