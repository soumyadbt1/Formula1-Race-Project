{
 "cells": [
  {
   "cell_type": "code",
   "execution_count": 0,
   "metadata": {
    "application/vnd.databricks.v1+cell": {
     "cellMetadata": {
      "byteLimit": 2048000,
      "rowLimit": 10000
     },
     "inputWidgets": {},
     "nuid": "3363464f-7336-4f6e-8272-e6bcc8448f3f",
     "showTitle": false,
     "tableResultSettingsMap": {},
     "title": ""
    }
   },
   "outputs": [],
   "source": [
    "dbutils.widgets.text(\"p_file_date\",\"2021-03-28\")\n",
    "v_file_date = dbutils.widgets.get(\"p_file_date\")"
   ]
  },
  {
   "cell_type": "code",
   "execution_count": 0,
   "metadata": {
    "application/vnd.databricks.v1+cell": {
     "cellMetadata": {
      "byteLimit": 2048000,
      "rowLimit": 10000
     },
     "inputWidgets": {},
     "nuid": "b9cf9464-1f54-409d-81d2-83ca4283fff8",
     "showTitle": false,
     "tableResultSettingsMap": {},
     "title": ""
    }
   },
   "outputs": [],
   "source": [
    "%run \"../Includes/Configuration\""
   ]
  },
  {
   "cell_type": "code",
   "execution_count": 0,
   "metadata": {
    "application/vnd.databricks.v1+cell": {
     "cellMetadata": {
      "byteLimit": 2048000,
      "rowLimit": 10000
     },
     "inputWidgets": {},
     "nuid": "c71fe250-3ed8-48c8-83c6-22b04a63243e",
     "showTitle": false,
     "tableResultSettingsMap": {},
     "title": ""
    }
   },
   "outputs": [],
   "source": [
    "%run \"../Includes/Common Functions\""
   ]
  },
  {
   "cell_type": "markdown",
   "metadata": {
    "application/vnd.databricks.v1+cell": {
     "cellMetadata": {
      "byteLimit": 2048000,
      "rowLimit": 10000
     },
     "inputWidgets": {},
     "nuid": "26040617-6d77-4977-acc5-37651338c9f6",
     "showTitle": false,
     "tableResultSettingsMap": {},
     "title": ""
    }
   },
   "source": [
    "Find race years for which the data is to be re-processed"
   ]
  },
  {
   "cell_type": "code",
   "execution_count": 0,
   "metadata": {
    "application/vnd.databricks.v1+cell": {
     "cellMetadata": {
      "byteLimit": 2048000,
      "rowLimit": 10000
     },
     "inputWidgets": {},
     "nuid": "a82be474-4485-4c30-9a68-dbb4964581c0",
     "showTitle": false,
     "tableResultSettingsMap": {},
     "title": ""
    }
   },
   "outputs": [],
   "source": [
    "race_results_df = spark.read.format(\"delta\").load(f\"{presentation_folder_path}/race_results\")\\\n",
    "    .filter(f\"file_date = '{v_file_date}'\")"
   ]
  },
  {
   "cell_type": "code",
   "execution_count": 0,
   "metadata": {
    "application/vnd.databricks.v1+cell": {
     "cellMetadata": {
      "byteLimit": 2048000,
      "rowLimit": 10000
     },
     "inputWidgets": {},
     "nuid": "29ca5f5c-67f4-44c5-93ad-fa8e669f8d8c",
     "showTitle": false,
     "tableResultSettingsMap": {},
     "title": ""
    }
   },
   "outputs": [],
   "source": [
    "race_year_list = df_column_to_list(race_results_df,'race_year')"
   ]
  },
  {
   "cell_type": "code",
   "execution_count": 0,
   "metadata": {
    "application/vnd.databricks.v1+cell": {
     "cellMetadata": {
      "byteLimit": 2048000,
      "rowLimit": 10000
     },
     "inputWidgets": {},
     "nuid": "d9c905fa-35c6-4aab-a0de-b3c529caf043",
     "showTitle": false,
     "tableResultSettingsMap": {},
     "title": ""
    }
   },
   "outputs": [],
   "source": [
    "from pyspark.sql.functions import col\n",
    "\n",
    "race_results_df = spark.read.format(\"delta\").load(f\"{presentation_folder_path}/race_results\") \\\n",
    "    .filter(col(\"race_year\").isin(race_year_list))"
   ]
  },
  {
   "cell_type": "code",
   "execution_count": 0,
   "metadata": {
    "application/vnd.databricks.v1+cell": {
     "cellMetadata": {
      "byteLimit": 2048000,
      "rowLimit": 10000
     },
     "inputWidgets": {},
     "nuid": "88150355-079b-470e-b6ee-71ce5863718e",
     "showTitle": false,
     "tableResultSettingsMap": {},
     "title": ""
    }
   },
   "outputs": [
    {
     "output_type": "display_data",
     "data": {
      "text/html": [
       "<style scoped>\n",
       "  .table-result-container {\n",
       "    max-height: 300px;\n",
       "    overflow: auto;\n",
       "  }\n",
       "  table, th, td {\n",
       "    border: 1px solid black;\n",
       "    border-collapse: collapse;\n",
       "  }\n",
       "  th, td {\n",
       "    padding: 5px;\n",
       "  }\n",
       "  th {\n",
       "    text-align: left;\n",
       "  }\n",
       "</style><div class='table-result-container'><table class='table-result'><thead style='background-color: white'><tr><th>race_id</th><th>race_year</th><th>race_name</th><th>race_date</th><th>circuit_location</th><th>driver_name</th><th>driver_number</th><th>driver_nationality</th><th>team</th><th>grid</th><th>fastest_lap</th><th>race_time</th><th>points</th><th>position</th><th>file_date</th><th>created_date</th></tr></thead><tbody><tr><td>1053</td><td>2021</td><td>Emilia Romagna Grand Prix</td><td>2021-04-18T13:00:00Z</td><td>Imola</td><td>Mick Schumacher</td><td>null</td><td>German</td><td>Haas F1 Team</td><td>18</td><td>null</td><td>\\N</td><td>0.0</td><td>16</td><td>2021-04-18</td><td>2025-01-21T05:49:22.787Z</td></tr><tr><td>1053</td><td>2021</td><td>Emilia Romagna Grand Prix</td><td>2021-04-18T13:00:00Z</td><td>Imola</td><td>Nikita Mazepin</td><td>null</td><td>Russian</td><td>Haas F1 Team</td><td>19</td><td>null</td><td>\\N</td><td>0.0</td><td>17</td><td>2021-04-18</td><td>2025-01-21T05:49:22.787Z</td></tr><tr><td>1053</td><td>2021</td><td>Emilia Romagna Grand Prix</td><td>2021-04-18T13:00:00Z</td><td>Imola</td><td>Yuki Tsunoda</td><td>null</td><td>Japanese</td><td>AlphaTauri</td><td>20</td><td>null</td><td>+73.184</td><td>0.0</td><td>12</td><td>2021-04-18</td><td>2025-01-21T05:49:22.787Z</td></tr><tr><td>1053</td><td>2021</td><td>Emilia Romagna Grand Prix</td><td>2021-04-18T13:00:00Z</td><td>Imola</td><td>Nicholas Latifi</td><td>6</td><td>Canadian</td><td>Williams</td><td>14</td><td>null</td><td>\\N</td><td>0.0</td><td>null</td><td>2021-04-18</td><td>2025-01-21T05:49:22.787Z</td></tr><tr><td>1053</td><td>2021</td><td>Emilia Romagna Grand Prix</td><td>2021-04-18T13:00:00Z</td><td>Imola</td><td>George Russell</td><td>63</td><td>British</td><td>Williams</td><td>12</td><td>null</td><td>\\N</td><td>0.0</td><td>null</td><td>2021-04-18</td><td>2025-01-21T05:49:22.787Z</td></tr><tr><td>1053</td><td>2021</td><td>Emilia Romagna Grand Prix</td><td>2021-04-18T13:00:00Z</td><td>Imola</td><td>Lando Norris</td><td>4</td><td>British</td><td>McLaren</td><td>7</td><td>null</td><td>+23.702</td><td>15.0</td><td>3</td><td>2021-04-18</td><td>2025-01-21T05:49:22.787Z</td></tr><tr><td>1053</td><td>2021</td><td>Emilia Romagna Grand Prix</td><td>2021-04-18T13:00:00Z</td><td>Imola</td><td>Charles Leclerc</td><td>16</td><td>Monegasque</td><td>Ferrari</td><td>4</td><td>null</td><td>+25.579</td><td>12.0</td><td>4</td><td>2021-04-18</td><td>2025-01-21T05:49:22.787Z</td></tr><tr><td>1053</td><td>2021</td><td>Emilia Romagna Grand Prix</td><td>2021-04-18T13:00:00Z</td><td>Imola</td><td>Pierre Gasly</td><td>10</td><td>French</td><td>AlphaTauri</td><td>5</td><td>null</td><td>+52.818</td><td>6.0</td><td>7</td><td>2021-04-18</td><td>2025-01-21T05:49:22.787Z</td></tr><tr><td>1053</td><td>2021</td><td>Emilia Romagna Grand Prix</td><td>2021-04-18T13:00:00Z</td><td>Imola</td><td>Antonio Giovinazzi</td><td>99</td><td>Italian</td><td>Alfa Romeo</td><td>17</td><td>null</td><td>\\N</td><td>0.0</td><td>14</td><td>2021-04-18</td><td>2025-01-21T05:49:22.787Z</td></tr><tr><td>1053</td><td>2021</td><td>Emilia Romagna Grand Prix</td><td>2021-04-18T13:00:00Z</td><td>Imola</td><td>Lance Stroll</td><td>18</td><td>Canadian</td><td>Aston Martin</td><td>10</td><td>null</td><td>+56.909</td><td>4.0</td><td>8</td><td>2021-04-18</td><td>2025-01-21T05:49:22.787Z</td></tr><tr><td>1053</td><td>2021</td><td>Emilia Romagna Grand Prix</td><td>2021-04-18T13:00:00Z</td><td>Imola</td><td>Esteban Ocon</td><td>31</td><td>French</td><td>Alpine F1 Team</td><td>9</td><td>null</td><td>+65.704</td><td>2.0</td><td>9</td><td>2021-04-18</td><td>2025-01-21T05:49:22.787Z</td></tr><tr><td>1053</td><td>2021</td><td>Emilia Romagna Grand Prix</td><td>2021-04-18T13:00:00Z</td><td>Imola</td><td>Carlos Sainz</td><td>55</td><td>Spanish</td><td>Ferrari</td><td>11</td><td>null</td><td>+27.036</td><td>10.0</td><td>5</td><td>2021-04-18</td><td>2025-01-21T05:49:22.787Z</td></tr><tr><td>1053</td><td>2021</td><td>Emilia Romagna Grand Prix</td><td>2021-04-18T13:00:00Z</td><td>Imola</td><td>Max Verstappen</td><td>33</td><td>Dutch</td><td>Red Bull</td><td>3</td><td>null</td><td>2:02:34.598</td><td>25.0</td><td>1</td><td>2021-04-18</td><td>2025-01-21T05:49:22.787Z</td></tr><tr><td>1053</td><td>2021</td><td>Emilia Romagna Grand Prix</td><td>2021-04-18T13:00:00Z</td><td>Imola</td><td>Valtteri Bottas</td><td>77</td><td>Finnish</td><td>Mercedes</td><td>8</td><td>null</td><td>\\N</td><td>0.0</td><td>null</td><td>2021-04-18</td><td>2025-01-21T05:49:22.787Z</td></tr><tr><td>1053</td><td>2021</td><td>Emilia Romagna Grand Prix</td><td>2021-04-18T13:00:00Z</td><td>Imola</td><td>Daniel Ricciardo</td><td>3</td><td>Australian</td><td>McLaren</td><td>6</td><td>null</td><td>+51.220</td><td>8.0</td><td>6</td><td>2021-04-18</td><td>2025-01-21T05:49:22.787Z</td></tr><tr><td>1053</td><td>2021</td><td>Emilia Romagna Grand Prix</td><td>2021-04-18T13:00:00Z</td><td>Imola</td><td>Sergio Pérez</td><td>11</td><td>Mexican</td><td>Red Bull</td><td>2</td><td>null</td><td>+67.151</td><td>0.0</td><td>11</td><td>2021-04-18</td><td>2025-01-21T05:49:22.787Z</td></tr><tr><td>1053</td><td>2021</td><td>Emilia Romagna Grand Prix</td><td>2021-04-18T13:00:00Z</td><td>Imola</td><td>Sebastian Vettel</td><td>5</td><td>German</td><td>Aston Martin</td><td>0</td><td>null</td><td>\\N</td><td>0.0</td><td>15</td><td>2021-04-18</td><td>2025-01-21T05:49:22.787Z</td></tr><tr><td>1053</td><td>2021</td><td>Emilia Romagna Grand Prix</td><td>2021-04-18T13:00:00Z</td><td>Imola</td><td>Kimi Räikkönen</td><td>7</td><td>Finnish</td><td>Alfa Romeo</td><td>16</td><td>null</td><td>+94.773</td><td>0.0</td><td>13</td><td>2021-04-18</td><td>2025-01-21T05:49:22.787Z</td></tr><tr><td>1053</td><td>2021</td><td>Emilia Romagna Grand Prix</td><td>2021-04-18T13:00:00Z</td><td>Imola</td><td>Fernando Alonso</td><td>14</td><td>Spanish</td><td>Alpine F1 Team</td><td>15</td><td>null</td><td>+66.561</td><td>1.0</td><td>10</td><td>2021-04-18</td><td>2025-01-21T05:49:22.787Z</td></tr><tr><td>1053</td><td>2021</td><td>Emilia Romagna Grand Prix</td><td>2021-04-18T13:00:00Z</td><td>Imola</td><td>Lewis Hamilton</td><td>44</td><td>British</td><td>Mercedes</td><td>1</td><td>null</td><td>+22.000</td><td>19.0</td><td>2</td><td>2021-04-18</td><td>2025-01-21T05:49:22.787Z</td></tr><tr><td>1052</td><td>2021</td><td>Bahrain Grand Prix</td><td>2021-03-28T15:00:00Z</td><td>Sakhir</td><td>Mick Schumacher</td><td>null</td><td>German</td><td>Haas F1 Team</td><td>18</td><td>null</td><td>\\N</td><td>0.0</td><td>16</td><td>2021-03-28</td><td>2025-01-21T05:48:49.009Z</td></tr><tr><td>1052</td><td>2021</td><td>Bahrain Grand Prix</td><td>2021-03-28T15:00:00Z</td><td>Sakhir</td><td>Nikita Mazepin</td><td>null</td><td>Russian</td><td>Haas F1 Team</td><td>19</td><td>null</td><td>\\N</td><td>0.0</td><td>null</td><td>2021-03-28</td><td>2025-01-21T05:48:49.009Z</td></tr><tr><td>1052</td><td>2021</td><td>Bahrain Grand Prix</td><td>2021-03-28T15:00:00Z</td><td>Sakhir</td><td>Yuki Tsunoda</td><td>null</td><td>Japanese</td><td>AlphaTauri</td><td>13</td><td>null</td><td>+85.692</td><td>2.0</td><td>9</td><td>2021-03-28</td><td>2025-01-21T05:48:49.009Z</td></tr><tr><td>1052</td><td>2021</td><td>Bahrain Grand Prix</td><td>2021-03-28T15:00:00Z</td><td>Sakhir</td><td>Nicholas Latifi</td><td>6</td><td>Canadian</td><td>Williams</td><td>17</td><td>null</td><td>\\N</td><td>0.0</td><td>18</td><td>2021-03-28</td><td>2025-01-21T05:48:49.009Z</td></tr><tr><td>1052</td><td>2021</td><td>Bahrain Grand Prix</td><td>2021-03-28T15:00:00Z</td><td>Sakhir</td><td>George Russell</td><td>63</td><td>British</td><td>Williams</td><td>15</td><td>null</td><td>\\N</td><td>0.0</td><td>14</td><td>2021-03-28</td><td>2025-01-21T05:48:49.009Z</td></tr><tr><td>1052</td><td>2021</td><td>Bahrain Grand Prix</td><td>2021-03-28T15:00:00Z</td><td>Sakhir</td><td>Lando Norris</td><td>4</td><td>British</td><td>McLaren</td><td>7</td><td>null</td><td>+46.466</td><td>12.0</td><td>4</td><td>2021-03-28</td><td>2025-01-21T05:48:49.009Z</td></tr><tr><td>1052</td><td>2021</td><td>Bahrain Grand Prix</td><td>2021-03-28T15:00:00Z</td><td>Sakhir</td><td>Charles Leclerc</td><td>16</td><td>Monegasque</td><td>Ferrari</td><td>4</td><td>null</td><td>+59.090</td><td>8.0</td><td>6</td><td>2021-03-28</td><td>2025-01-21T05:48:49.009Z</td></tr><tr><td>1052</td><td>2021</td><td>Bahrain Grand Prix</td><td>2021-03-28T15:00:00Z</td><td>Sakhir</td><td>Pierre Gasly</td><td>10</td><td>French</td><td>AlphaTauri</td><td>5</td><td>null</td><td>\\N</td><td>0.0</td><td>17</td><td>2021-03-28</td><td>2025-01-21T05:48:49.009Z</td></tr><tr><td>1052</td><td>2021</td><td>Bahrain Grand Prix</td><td>2021-03-28T15:00:00Z</td><td>Sakhir</td><td>Antonio Giovinazzi</td><td>99</td><td>Italian</td><td>Alfa Romeo</td><td>12</td><td>null</td><td>\\N</td><td>0.0</td><td>12</td><td>2021-03-28</td><td>2025-01-21T05:48:49.009Z</td></tr><tr><td>1052</td><td>2021</td><td>Bahrain Grand Prix</td><td>2021-03-28T15:00:00Z</td><td>Sakhir</td><td>Lance Stroll</td><td>18</td><td>Canadian</td><td>Aston Martin</td><td>10</td><td>null</td><td>+86.713</td><td>1.0</td><td>10</td><td>2021-03-28</td><td>2025-01-21T05:48:49.009Z</td></tr><tr><td>1052</td><td>2021</td><td>Bahrain Grand Prix</td><td>2021-03-28T15:00:00Z</td><td>Sakhir</td><td>Esteban Ocon</td><td>31</td><td>French</td><td>Alpine F1 Team</td><td>16</td><td>null</td><td>\\N</td><td>0.0</td><td>13</td><td>2021-03-28</td><td>2025-01-21T05:48:49.009Z</td></tr><tr><td>1052</td><td>2021</td><td>Bahrain Grand Prix</td><td>2021-03-28T15:00:00Z</td><td>Sakhir</td><td>Carlos Sainz</td><td>55</td><td>Spanish</td><td>Ferrari</td><td>8</td><td>null</td><td>+67.100</td><td>4.0</td><td>8</td><td>2021-03-28</td><td>2025-01-21T05:48:49.009Z</td></tr><tr><td>1052</td><td>2021</td><td>Bahrain Grand Prix</td><td>2021-03-28T15:00:00Z</td><td>Sakhir</td><td>Max Verstappen</td><td>33</td><td>Dutch</td><td>Red Bull</td><td>1</td><td>null</td><td>+0.745</td><td>18.0</td><td>2</td><td>2021-03-28</td><td>2025-01-21T05:48:49.009Z</td></tr><tr><td>1052</td><td>2021</td><td>Bahrain Grand Prix</td><td>2021-03-28T15:00:00Z</td><td>Sakhir</td><td>Valtteri Bottas</td><td>77</td><td>Finnish</td><td>Mercedes</td><td>3</td><td>null</td><td>+37.383</td><td>16.0</td><td>3</td><td>2021-03-28</td><td>2025-01-21T05:48:49.009Z</td></tr><tr><td>1052</td><td>2021</td><td>Bahrain Grand Prix</td><td>2021-03-28T15:00:00Z</td><td>Sakhir</td><td>Daniel Ricciardo</td><td>3</td><td>Australian</td><td>McLaren</td><td>6</td><td>null</td><td>+66.004</td><td>6.0</td><td>7</td><td>2021-03-28</td><td>2025-01-21T05:48:49.009Z</td></tr><tr><td>1052</td><td>2021</td><td>Bahrain Grand Prix</td><td>2021-03-28T15:00:00Z</td><td>Sakhir</td><td>Sergio Pérez</td><td>11</td><td>Mexican</td><td>Red Bull</td><td>0</td><td>null</td><td>+52.047</td><td>10.0</td><td>5</td><td>2021-03-28</td><td>2025-01-21T05:48:49.009Z</td></tr><tr><td>1052</td><td>2021</td><td>Bahrain Grand Prix</td><td>2021-03-28T15:00:00Z</td><td>Sakhir</td><td>Sebastian Vettel</td><td>5</td><td>German</td><td>Aston Martin</td><td>20</td><td>null</td><td>\\N</td><td>0.0</td><td>15</td><td>2021-03-28</td><td>2025-01-21T05:48:49.009Z</td></tr><tr><td>1052</td><td>2021</td><td>Bahrain Grand Prix</td><td>2021-03-28T15:00:00Z</td><td>Sakhir</td><td>Kimi Räikkönen</td><td>7</td><td>Finnish</td><td>Alfa Romeo</td><td>14</td><td>null</td><td>+88.864</td><td>0.0</td><td>11</td><td>2021-03-28</td><td>2025-01-21T05:48:49.009Z</td></tr><tr><td>1052</td><td>2021</td><td>Bahrain Grand Prix</td><td>2021-03-28T15:00:00Z</td><td>Sakhir</td><td>Fernando Alonso</td><td>14</td><td>Spanish</td><td>Alpine F1 Team</td><td>9</td><td>null</td><td>\\N</td><td>0.0</td><td>null</td><td>2021-03-28</td><td>2025-01-21T05:48:49.009Z</td></tr><tr><td>1052</td><td>2021</td><td>Bahrain Grand Prix</td><td>2021-03-28T15:00:00Z</td><td>Sakhir</td><td>Lewis Hamilton</td><td>44</td><td>British</td><td>Mercedes</td><td>2</td><td>null</td><td>1:32:03.897</td><td>25.0</td><td>1</td><td>2021-03-28</td><td>2025-01-21T05:48:49.009Z</td></tr></tbody></table></div>"
      ]
     },
     "metadata": {
      "application/vnd.databricks.v1+output": {
       "addedWidgets": {},
       "aggData": [],
       "aggError": "",
       "aggOverflow": false,
       "aggSchema": [],
       "aggSeriesLimitReached": false,
       "aggType": "",
       "arguments": {},
       "columnCustomDisplayInfos": {},
       "data": [
        [
         1053,
         2021,
         "Emilia Romagna Grand Prix",
         "2021-04-18T13:00:00Z",
         "Imola",
         "Mick Schumacher",
         null,
         "German",
         "Haas F1 Team",
         18,
         null,
         "\\N",
         0.0,
         16,
         "2021-04-18",
         "2025-01-21T05:49:22.787Z"
        ],
        [
         1053,
         2021,
         "Emilia Romagna Grand Prix",
         "2021-04-18T13:00:00Z",
         "Imola",
         "Nikita Mazepin",
         null,
         "Russian",
         "Haas F1 Team",
         19,
         null,
         "\\N",
         0.0,
         17,
         "2021-04-18",
         "2025-01-21T05:49:22.787Z"
        ],
        [
         1053,
         2021,
         "Emilia Romagna Grand Prix",
         "2021-04-18T13:00:00Z",
         "Imola",
         "Yuki Tsunoda",
         null,
         "Japanese",
         "AlphaTauri",
         20,
         null,
         "+73.184",
         0.0,
         12,
         "2021-04-18",
         "2025-01-21T05:49:22.787Z"
        ],
        [
         1053,
         2021,
         "Emilia Romagna Grand Prix",
         "2021-04-18T13:00:00Z",
         "Imola",
         "Nicholas Latifi",
         6,
         "Canadian",
         "Williams",
         14,
         null,
         "\\N",
         0.0,
         null,
         "2021-04-18",
         "2025-01-21T05:49:22.787Z"
        ],
        [
         1053,
         2021,
         "Emilia Romagna Grand Prix",
         "2021-04-18T13:00:00Z",
         "Imola",
         "George Russell",
         63,
         "British",
         "Williams",
         12,
         null,
         "\\N",
         0.0,
         null,
         "2021-04-18",
         "2025-01-21T05:49:22.787Z"
        ],
        [
         1053,
         2021,
         "Emilia Romagna Grand Prix",
         "2021-04-18T13:00:00Z",
         "Imola",
         "Lando Norris",
         4,
         "British",
         "McLaren",
         7,
         null,
         "+23.702",
         15.0,
         3,
         "2021-04-18",
         "2025-01-21T05:49:22.787Z"
        ],
        [
         1053,
         2021,
         "Emilia Romagna Grand Prix",
         "2021-04-18T13:00:00Z",
         "Imola",
         "Charles Leclerc",
         16,
         "Monegasque",
         "Ferrari",
         4,
         null,
         "+25.579",
         12.0,
         4,
         "2021-04-18",
         "2025-01-21T05:49:22.787Z"
        ],
        [
         1053,
         2021,
         "Emilia Romagna Grand Prix",
         "2021-04-18T13:00:00Z",
         "Imola",
         "Pierre Gasly",
         10,
         "French",
         "AlphaTauri",
         5,
         null,
         "+52.818",
         6.0,
         7,
         "2021-04-18",
         "2025-01-21T05:49:22.787Z"
        ],
        [
         1053,
         2021,
         "Emilia Romagna Grand Prix",
         "2021-04-18T13:00:00Z",
         "Imola",
         "Antonio Giovinazzi",
         99,
         "Italian",
         "Alfa Romeo",
         17,
         null,
         "\\N",
         0.0,
         14,
         "2021-04-18",
         "2025-01-21T05:49:22.787Z"
        ],
        [
         1053,
         2021,
         "Emilia Romagna Grand Prix",
         "2021-04-18T13:00:00Z",
         "Imola",
         "Lance Stroll",
         18,
         "Canadian",
         "Aston Martin",
         10,
         null,
         "+56.909",
         4.0,
         8,
         "2021-04-18",
         "2025-01-21T05:49:22.787Z"
        ],
        [
         1053,
         2021,
         "Emilia Romagna Grand Prix",
         "2021-04-18T13:00:00Z",
         "Imola",
         "Esteban Ocon",
         31,
         "French",
         "Alpine F1 Team",
         9,
         null,
         "+65.704",
         2.0,
         9,
         "2021-04-18",
         "2025-01-21T05:49:22.787Z"
        ],
        [
         1053,
         2021,
         "Emilia Romagna Grand Prix",
         "2021-04-18T13:00:00Z",
         "Imola",
         "Carlos Sainz",
         55,
         "Spanish",
         "Ferrari",
         11,
         null,
         "+27.036",
         10.0,
         5,
         "2021-04-18",
         "2025-01-21T05:49:22.787Z"
        ],
        [
         1053,
         2021,
         "Emilia Romagna Grand Prix",
         "2021-04-18T13:00:00Z",
         "Imola",
         "Max Verstappen",
         33,
         "Dutch",
         "Red Bull",
         3,
         null,
         "2:02:34.598",
         25.0,
         1,
         "2021-04-18",
         "2025-01-21T05:49:22.787Z"
        ],
        [
         1053,
         2021,
         "Emilia Romagna Grand Prix",
         "2021-04-18T13:00:00Z",
         "Imola",
         "Valtteri Bottas",
         77,
         "Finnish",
         "Mercedes",
         8,
         null,
         "\\N",
         0.0,
         null,
         "2021-04-18",
         "2025-01-21T05:49:22.787Z"
        ],
        [
         1053,
         2021,
         "Emilia Romagna Grand Prix",
         "2021-04-18T13:00:00Z",
         "Imola",
         "Daniel Ricciardo",
         3,
         "Australian",
         "McLaren",
         6,
         null,
         "+51.220",
         8.0,
         6,
         "2021-04-18",
         "2025-01-21T05:49:22.787Z"
        ],
        [
         1053,
         2021,
         "Emilia Romagna Grand Prix",
         "2021-04-18T13:00:00Z",
         "Imola",
         "Sergio Pérez",
         11,
         "Mexican",
         "Red Bull",
         2,
         null,
         "+67.151",
         0.0,
         11,
         "2021-04-18",
         "2025-01-21T05:49:22.787Z"
        ],
        [
         1053,
         2021,
         "Emilia Romagna Grand Prix",
         "2021-04-18T13:00:00Z",
         "Imola",
         "Sebastian Vettel",
         5,
         "German",
         "Aston Martin",
         0,
         null,
         "\\N",
         0.0,
         15,
         "2021-04-18",
         "2025-01-21T05:49:22.787Z"
        ],
        [
         1053,
         2021,
         "Emilia Romagna Grand Prix",
         "2021-04-18T13:00:00Z",
         "Imola",
         "Kimi Räikkönen",
         7,
         "Finnish",
         "Alfa Romeo",
         16,
         null,
         "+94.773",
         0.0,
         13,
         "2021-04-18",
         "2025-01-21T05:49:22.787Z"
        ],
        [
         1053,
         2021,
         "Emilia Romagna Grand Prix",
         "2021-04-18T13:00:00Z",
         "Imola",
         "Fernando Alonso",
         14,
         "Spanish",
         "Alpine F1 Team",
         15,
         null,
         "+66.561",
         1.0,
         10,
         "2021-04-18",
         "2025-01-21T05:49:22.787Z"
        ],
        [
         1053,
         2021,
         "Emilia Romagna Grand Prix",
         "2021-04-18T13:00:00Z",
         "Imola",
         "Lewis Hamilton",
         44,
         "British",
         "Mercedes",
         1,
         null,
         "+22.000",
         19.0,
         2,
         "2021-04-18",
         "2025-01-21T05:49:22.787Z"
        ],
        [
         1052,
         2021,
         "Bahrain Grand Prix",
         "2021-03-28T15:00:00Z",
         "Sakhir",
         "Mick Schumacher",
         null,
         "German",
         "Haas F1 Team",
         18,
         null,
         "\\N",
         0.0,
         16,
         "2021-03-28",
         "2025-01-21T05:48:49.009Z"
        ],
        [
         1052,
         2021,
         "Bahrain Grand Prix",
         "2021-03-28T15:00:00Z",
         "Sakhir",
         "Nikita Mazepin",
         null,
         "Russian",
         "Haas F1 Team",
         19,
         null,
         "\\N",
         0.0,
         null,
         "2021-03-28",
         "2025-01-21T05:48:49.009Z"
        ],
        [
         1052,
         2021,
         "Bahrain Grand Prix",
         "2021-03-28T15:00:00Z",
         "Sakhir",
         "Yuki Tsunoda",
         null,
         "Japanese",
         "AlphaTauri",
         13,
         null,
         "+85.692",
         2.0,
         9,
         "2021-03-28",
         "2025-01-21T05:48:49.009Z"
        ],
        [
         1052,
         2021,
         "Bahrain Grand Prix",
         "2021-03-28T15:00:00Z",
         "Sakhir",
         "Nicholas Latifi",
         6,
         "Canadian",
         "Williams",
         17,
         null,
         "\\N",
         0.0,
         18,
         "2021-03-28",
         "2025-01-21T05:48:49.009Z"
        ],
        [
         1052,
         2021,
         "Bahrain Grand Prix",
         "2021-03-28T15:00:00Z",
         "Sakhir",
         "George Russell",
         63,
         "British",
         "Williams",
         15,
         null,
         "\\N",
         0.0,
         14,
         "2021-03-28",
         "2025-01-21T05:48:49.009Z"
        ],
        [
         1052,
         2021,
         "Bahrain Grand Prix",
         "2021-03-28T15:00:00Z",
         "Sakhir",
         "Lando Norris",
         4,
         "British",
         "McLaren",
         7,
         null,
         "+46.466",
         12.0,
         4,
         "2021-03-28",
         "2025-01-21T05:48:49.009Z"
        ],
        [
         1052,
         2021,
         "Bahrain Grand Prix",
         "2021-03-28T15:00:00Z",
         "Sakhir",
         "Charles Leclerc",
         16,
         "Monegasque",
         "Ferrari",
         4,
         null,
         "+59.090",
         8.0,
         6,
         "2021-03-28",
         "2025-01-21T05:48:49.009Z"
        ],
        [
         1052,
         2021,
         "Bahrain Grand Prix",
         "2021-03-28T15:00:00Z",
         "Sakhir",
         "Pierre Gasly",
         10,
         "French",
         "AlphaTauri",
         5,
         null,
         "\\N",
         0.0,
         17,
         "2021-03-28",
         "2025-01-21T05:48:49.009Z"
        ],
        [
         1052,
         2021,
         "Bahrain Grand Prix",
         "2021-03-28T15:00:00Z",
         "Sakhir",
         "Antonio Giovinazzi",
         99,
         "Italian",
         "Alfa Romeo",
         12,
         null,
         "\\N",
         0.0,
         12,
         "2021-03-28",
         "2025-01-21T05:48:49.009Z"
        ],
        [
         1052,
         2021,
         "Bahrain Grand Prix",
         "2021-03-28T15:00:00Z",
         "Sakhir",
         "Lance Stroll",
         18,
         "Canadian",
         "Aston Martin",
         10,
         null,
         "+86.713",
         1.0,
         10,
         "2021-03-28",
         "2025-01-21T05:48:49.009Z"
        ],
        [
         1052,
         2021,
         "Bahrain Grand Prix",
         "2021-03-28T15:00:00Z",
         "Sakhir",
         "Esteban Ocon",
         31,
         "French",
         "Alpine F1 Team",
         16,
         null,
         "\\N",
         0.0,
         13,
         "2021-03-28",
         "2025-01-21T05:48:49.009Z"
        ],
        [
         1052,
         2021,
         "Bahrain Grand Prix",
         "2021-03-28T15:00:00Z",
         "Sakhir",
         "Carlos Sainz",
         55,
         "Spanish",
         "Ferrari",
         8,
         null,
         "+67.100",
         4.0,
         8,
         "2021-03-28",
         "2025-01-21T05:48:49.009Z"
        ],
        [
         1052,
         2021,
         "Bahrain Grand Prix",
         "2021-03-28T15:00:00Z",
         "Sakhir",
         "Max Verstappen",
         33,
         "Dutch",
         "Red Bull",
         1,
         null,
         "+0.745",
         18.0,
         2,
         "2021-03-28",
         "2025-01-21T05:48:49.009Z"
        ],
        [
         1052,
         2021,
         "Bahrain Grand Prix",
         "2021-03-28T15:00:00Z",
         "Sakhir",
         "Valtteri Bottas",
         77,
         "Finnish",
         "Mercedes",
         3,
         null,
         "+37.383",
         16.0,
         3,
         "2021-03-28",
         "2025-01-21T05:48:49.009Z"
        ],
        [
         1052,
         2021,
         "Bahrain Grand Prix",
         "2021-03-28T15:00:00Z",
         "Sakhir",
         "Daniel Ricciardo",
         3,
         "Australian",
         "McLaren",
         6,
         null,
         "+66.004",
         6.0,
         7,
         "2021-03-28",
         "2025-01-21T05:48:49.009Z"
        ],
        [
         1052,
         2021,
         "Bahrain Grand Prix",
         "2021-03-28T15:00:00Z",
         "Sakhir",
         "Sergio Pérez",
         11,
         "Mexican",
         "Red Bull",
         0,
         null,
         "+52.047",
         10.0,
         5,
         "2021-03-28",
         "2025-01-21T05:48:49.009Z"
        ],
        [
         1052,
         2021,
         "Bahrain Grand Prix",
         "2021-03-28T15:00:00Z",
         "Sakhir",
         "Sebastian Vettel",
         5,
         "German",
         "Aston Martin",
         20,
         null,
         "\\N",
         0.0,
         15,
         "2021-03-28",
         "2025-01-21T05:48:49.009Z"
        ],
        [
         1052,
         2021,
         "Bahrain Grand Prix",
         "2021-03-28T15:00:00Z",
         "Sakhir",
         "Kimi Räikkönen",
         7,
         "Finnish",
         "Alfa Romeo",
         14,
         null,
         "+88.864",
         0.0,
         11,
         "2021-03-28",
         "2025-01-21T05:48:49.009Z"
        ],
        [
         1052,
         2021,
         "Bahrain Grand Prix",
         "2021-03-28T15:00:00Z",
         "Sakhir",
         "Fernando Alonso",
         14,
         "Spanish",
         "Alpine F1 Team",
         9,
         null,
         "\\N",
         0.0,
         null,
         "2021-03-28",
         "2025-01-21T05:48:49.009Z"
        ],
        [
         1052,
         2021,
         "Bahrain Grand Prix",
         "2021-03-28T15:00:00Z",
         "Sakhir",
         "Lewis Hamilton",
         44,
         "British",
         "Mercedes",
         2,
         null,
         "1:32:03.897",
         25.0,
         1,
         "2021-03-28",
         "2025-01-21T05:48:49.009Z"
        ]
       ],
       "datasetInfos": [],
       "dbfsResultPath": null,
       "isJsonSchema": true,
       "metadata": {},
       "overflow": false,
       "plotOptions": {
        "customPlotOptions": {},
        "displayType": "table",
        "pivotAggregation": null,
        "pivotColumns": null,
        "xColumns": null,
        "yColumns": null
       },
       "removedWidgets": [],
       "schema": [
        {
         "metadata": "{}",
         "name": "race_id",
         "type": "\"integer\""
        },
        {
         "metadata": "{}",
         "name": "race_year",
         "type": "\"integer\""
        },
        {
         "metadata": "{}",
         "name": "race_name",
         "type": "\"string\""
        },
        {
         "metadata": "{}",
         "name": "race_date",
         "type": "\"timestamp\""
        },
        {
         "metadata": "{}",
         "name": "circuit_location",
         "type": "\"string\""
        },
        {
         "metadata": "{}",
         "name": "driver_name",
         "type": "\"string\""
        },
        {
         "metadata": "{}",
         "name": "driver_number",
         "type": "\"integer\""
        },
        {
         "metadata": "{}",
         "name": "driver_nationality",
         "type": "\"string\""
        },
        {
         "metadata": "{}",
         "name": "team",
         "type": "\"string\""
        },
        {
         "metadata": "{}",
         "name": "grid",
         "type": "\"integer\""
        },
        {
         "metadata": "{}",
         "name": "fastest_lap",
         "type": "\"integer\""
        },
        {
         "metadata": "{}",
         "name": "race_time",
         "type": "\"string\""
        },
        {
         "metadata": "{}",
         "name": "points",
         "type": "\"float\""
        },
        {
         "metadata": "{}",
         "name": "position",
         "type": "\"integer\""
        },
        {
         "metadata": "{}",
         "name": "file_date",
         "type": "\"string\""
        },
        {
         "metadata": "{}",
         "name": "created_date",
         "type": "\"timestamp\""
        }
       ],
       "type": "table"
      }
     },
     "output_type": "display_data"
    }
   ],
   "source": [
    "display(race_results_df)"
   ]
  },
  {
   "cell_type": "code",
   "execution_count": 0,
   "metadata": {
    "application/vnd.databricks.v1+cell": {
     "cellMetadata": {
      "byteLimit": 2048000,
      "rowLimit": 10000
     },
     "inputWidgets": {},
     "nuid": "742a4dd3-5ccc-4f9a-8503-1eed81c8ecb4",
     "showTitle": false,
     "tableResultSettingsMap": {},
     "title": ""
    }
   },
   "outputs": [],
   "source": [
    "from pyspark.sql.functions import sum , when, col, count\n",
    "\n",
    "driver_standing_df = race_results_df \\\n",
    "    .groupBy(\"race_year\",\"driver_name\",\"driver_nationality\") \\\n",
    "    .agg(sum(\"points\").alias(\"total_points\"),\n",
    "         count(when(col(\"position\") == 1, True)).alias(\"wins\")) "
   ]
  },
  {
   "cell_type": "code",
   "execution_count": 0,
   "metadata": {
    "application/vnd.databricks.v1+cell": {
     "cellMetadata": {
      "byteLimit": 2048000,
      "rowLimit": 10000
     },
     "inputWidgets": {},
     "nuid": "45217a47-b855-4d77-b3df-c86ef1b413a0",
     "showTitle": false,
     "tableResultSettingsMap": {},
     "title": ""
    }
   },
   "outputs": [],
   "source": [
    "from pyspark.sql.window import Window\n",
    "from pyspark.sql.functions import desc, rank\n",
    "\n",
    "driver_rank_spec = Window.partitionBy(\"race_year\").orderBy(desc(\"total_points\"),desc(\"wins\"))\n",
    "final_df = driver_standing_df.withColumn(\"rank\", rank().over(driver_rank_spec))"
   ]
  },
  {
   "cell_type": "code",
   "execution_count": 0,
   "metadata": {
    "application/vnd.databricks.v1+cell": {
     "cellMetadata": {
      "byteLimit": 2048000,
      "rowLimit": 10000
     },
     "inputWidgets": {},
     "nuid": "bbded341-4322-4ba4-9658-5a17ca32bdee",
     "showTitle": false,
     "tableResultSettingsMap": {},
     "title": ""
    }
   },
   "outputs": [],
   "source": [
    "# final_df.write.mode(\"overwrite\").format(\"parquet\").saveAsTable(\"f1_presentation.driver_standings\")\n",
    "#overwrite_partition(final_df,'f1_presentation','driver_standings','race_year')"
   ]
  },
  {
   "cell_type": "code",
   "execution_count": 0,
   "metadata": {
    "application/vnd.databricks.v1+cell": {
     "cellMetadata": {
      "byteLimit": 2048000,
      "rowLimit": 10000
     },
     "inputWidgets": {},
     "nuid": "b7bf321c-53c4-49f9-8a7a-adf9fcdef157",
     "showTitle": false,
     "tableResultSettingsMap": {},
     "title": ""
    }
   },
   "outputs": [],
   "source": [
    "merge_condition = \"tgt.driver_name = src.driver_name AND tgt.race_year = src.race_year\"\n",
    "merge_delta_table(final_df, 'f1_presentation', 'driver_standings', presentation_folder_path, merge_condition, 'race_year')"
   ]
  },
  {
   "cell_type": "code",
   "execution_count": 0,
   "metadata": {
    "application/vnd.databricks.v1+cell": {
     "cellMetadata": {
      "byteLimit": 2048000,
      "implicitDf": true,
      "rowLimit": 10000
     },
     "inputWidgets": {},
     "nuid": "d95082cf-2710-4083-9a9b-24f9d0c10a30",
     "showTitle": false,
     "tableResultSettingsMap": {},
     "title": ""
    }
   },
   "outputs": [
    {
     "output_type": "display_data",
     "data": {
      "text/html": [
       "<style scoped>\n",
       "  .table-result-container {\n",
       "    max-height: 300px;\n",
       "    overflow: auto;\n",
       "  }\n",
       "  table, th, td {\n",
       "    border: 1px solid black;\n",
       "    border-collapse: collapse;\n",
       "  }\n",
       "  th, td {\n",
       "    padding: 5px;\n",
       "  }\n",
       "  th {\n",
       "    text-align: left;\n",
       "  }\n",
       "</style><div class='table-result-container'><table class='table-result'><thead style='background-color: white'><tr><th>race_year</th><th>driver_name</th><th>driver_nationality</th><th>total_points</th><th>wins</th><th>rank</th></tr></thead><tbody><tr><td>2021</td><td>Lewis Hamilton</td><td>British</td><td>44.0</td><td>1</td><td>1</td></tr><tr><td>2021</td><td>Max Verstappen</td><td>Dutch</td><td>43.0</td><td>1</td><td>2</td></tr><tr><td>2021</td><td>Lando Norris</td><td>British</td><td>27.0</td><td>0</td><td>3</td></tr><tr><td>2021</td><td>Charles Leclerc</td><td>Monegasque</td><td>20.0</td><td>0</td><td>4</td></tr><tr><td>2021</td><td>Valtteri Bottas</td><td>Finnish</td><td>16.0</td><td>0</td><td>5</td></tr><tr><td>2021</td><td>Daniel Ricciardo</td><td>Australian</td><td>14.0</td><td>0</td><td>6</td></tr><tr><td>2021</td><td>Carlos Sainz</td><td>Spanish</td><td>14.0</td><td>0</td><td>6</td></tr><tr><td>2021</td><td>Sergio Pérez</td><td>Mexican</td><td>10.0</td><td>0</td><td>8</td></tr><tr><td>2021</td><td>Pierre Gasly</td><td>French</td><td>6.0</td><td>0</td><td>9</td></tr><tr><td>2021</td><td>Lance Stroll</td><td>Canadian</td><td>5.0</td><td>0</td><td>10</td></tr><tr><td>2021</td><td>Esteban Ocon</td><td>French</td><td>2.0</td><td>0</td><td>11</td></tr><tr><td>2021</td><td>Yuki Tsunoda</td><td>Japanese</td><td>2.0</td><td>0</td><td>11</td></tr><tr><td>2021</td><td>Fernando Alonso</td><td>Spanish</td><td>1.0</td><td>0</td><td>13</td></tr><tr><td>2021</td><td>George Russell</td><td>British</td><td>0.0</td><td>0</td><td>14</td></tr><tr><td>2021</td><td>Antonio Giovinazzi</td><td>Italian</td><td>0.0</td><td>0</td><td>14</td></tr><tr><td>2021</td><td>Sebastian Vettel</td><td>German</td><td>0.0</td><td>0</td><td>14</td></tr><tr><td>2021</td><td>Nicholas Latifi</td><td>Canadian</td><td>0.0</td><td>0</td><td>14</td></tr><tr><td>2021</td><td>Nikita Mazepin</td><td>Russian</td><td>0.0</td><td>0</td><td>14</td></tr><tr><td>2021</td><td>Mick Schumacher</td><td>German</td><td>0.0</td><td>0</td><td>14</td></tr><tr><td>2021</td><td>Kimi Räikkönen</td><td>Finnish</td><td>0.0</td><td>0</td><td>14</td></tr></tbody></table></div>"
      ]
     },
     "metadata": {
      "application/vnd.databricks.v1+output": {
       "addedWidgets": {},
       "aggData": [],
       "aggError": "",
       "aggOverflow": false,
       "aggSchema": [],
       "aggSeriesLimitReached": false,
       "aggType": "",
       "arguments": {},
       "columnCustomDisplayInfos": {},
       "data": [
        [
         2021,
         "Lewis Hamilton",
         "British",
         44.0,
         1,
         1
        ],
        [
         2021,
         "Max Verstappen",
         "Dutch",
         43.0,
         1,
         2
        ],
        [
         2021,
         "Lando Norris",
         "British",
         27.0,
         0,
         3
        ],
        [
         2021,
         "Charles Leclerc",
         "Monegasque",
         20.0,
         0,
         4
        ],
        [
         2021,
         "Valtteri Bottas",
         "Finnish",
         16.0,
         0,
         5
        ],
        [
         2021,
         "Daniel Ricciardo",
         "Australian",
         14.0,
         0,
         6
        ],
        [
         2021,
         "Carlos Sainz",
         "Spanish",
         14.0,
         0,
         6
        ],
        [
         2021,
         "Sergio Pérez",
         "Mexican",
         10.0,
         0,
         8
        ],
        [
         2021,
         "Pierre Gasly",
         "French",
         6.0,
         0,
         9
        ],
        [
         2021,
         "Lance Stroll",
         "Canadian",
         5.0,
         0,
         10
        ],
        [
         2021,
         "Esteban Ocon",
         "French",
         2.0,
         0,
         11
        ],
        [
         2021,
         "Yuki Tsunoda",
         "Japanese",
         2.0,
         0,
         11
        ],
        [
         2021,
         "Fernando Alonso",
         "Spanish",
         1.0,
         0,
         13
        ],
        [
         2021,
         "George Russell",
         "British",
         0.0,
         0,
         14
        ],
        [
         2021,
         "Antonio Giovinazzi",
         "Italian",
         0.0,
         0,
         14
        ],
        [
         2021,
         "Sebastian Vettel",
         "German",
         0.0,
         0,
         14
        ],
        [
         2021,
         "Nicholas Latifi",
         "Canadian",
         0.0,
         0,
         14
        ],
        [
         2021,
         "Nikita Mazepin",
         "Russian",
         0.0,
         0,
         14
        ],
        [
         2021,
         "Mick Schumacher",
         "German",
         0.0,
         0,
         14
        ],
        [
         2021,
         "Kimi Räikkönen",
         "Finnish",
         0.0,
         0,
         14
        ]
       ],
       "datasetInfos": [],
       "dbfsResultPath": null,
       "isJsonSchema": true,
       "metadata": {
        "createTempViewForImplicitDf": true,
        "dataframeName": "_sqldf",
        "executionCount": 56
       },
       "overflow": false,
       "plotOptions": {
        "customPlotOptions": {},
        "displayType": "table",
        "pivotAggregation": null,
        "pivotColumns": null,
        "xColumns": null,
        "yColumns": null
       },
       "removedWidgets": [],
       "schema": [
        {
         "metadata": "{}",
         "name": "race_year",
         "type": "\"integer\""
        },
        {
         "metadata": "{}",
         "name": "driver_name",
         "type": "\"string\""
        },
        {
         "metadata": "{}",
         "name": "driver_nationality",
         "type": "\"string\""
        },
        {
         "metadata": "{}",
         "name": "total_points",
         "type": "\"double\""
        },
        {
         "metadata": "{}",
         "name": "wins",
         "type": "\"long\""
        },
        {
         "metadata": "{}",
         "name": "rank",
         "type": "\"integer\""
        }
       ],
       "type": "table"
      }
     },
     "output_type": "display_data"
    }
   ],
   "source": [
    "%sql\n",
    "select * from f1_presentation.driver_standings WHERE race_year = 2021;"
   ]
  }
 ],
 "metadata": {
  "application/vnd.databricks.v1+notebook": {
   "computePreferences": null,
   "dashboards": [],
   "environmentMetadata": null,
   "language": "python",
   "notebookMetadata": {
    "mostRecentlyExecutedCommandWithImplicitDF": {
     "commandId": 4957274512209403,
     "dataframes": [
      "_sqldf"
     ]
    },
    "pythonIndentUnit": 4
   },
   "notebookName": "2. Driver Standings",
   "widgets": {
    "p_file_date": {
     "currentValue": "2021-04-18",
     "nuid": "0eb6b4d8-b951-4715-90ba-3b1faf3396a6",
     "typedWidgetInfo": {
      "autoCreated": false,
      "defaultValue": "2021-03-28",
      "label": null,
      "name": "p_file_date",
      "options": {
       "widgetDisplayType": "Text",
       "validationRegex": null
      },
      "parameterDataType": "String"
     },
     "widgetInfo": {
      "widgetType": "text",
      "defaultValue": "2021-03-28",
      "label": null,
      "name": "p_file_date",
      "options": {
       "widgetType": "text",
       "autoCreated": null,
       "validationRegex": null
      }
     }
    }
   }
  },
  "language_info": {
   "name": "python"
  }
 },
 "nbformat": 4,
 "nbformat_minor": 0
}